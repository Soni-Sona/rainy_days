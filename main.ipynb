{
 "cells": [
  {
   "cell_type": "markdown",
   "id": "eedd16ee-02cc-4f8d-9677-02ce82e321da",
   "metadata": {},
   "source": [
    "# Rainy Days\n",
    "## Setup\n",
    "Run the following cell only if you did not already install the required packages. Then, restart the Kernel (click on the `Kernel` menu, `Restart Kernel...`)"
   ]
  },
  {
   "cell_type": "code",
   "execution_count": null,
   "id": "fb653a63-4082-411c-b590-3ab3c58335bc",
   "metadata": {},
   "outputs": [],
   "source": [
    "import scripts.setup"
   ]
  },
  {
   "cell_type": "markdown",
   "id": "a6f6a055-db53-402e-bb77-25671768f3b4",
   "metadata": {},
   "source": [
    "## Initialization\n",
    "\n",
    "This app creates renders of the number of rainy days per month in a given area of interest. Run the following cells sequentially, by clicking on them and hitting `Shift + Entrer`.\n",
    "\n",
    "The next cell loads the Google Earth Engine API. Follow the instrutions in the link to obtain the text token. You may need to signup to the Earth Engine service."
   ]
  },
  {
   "cell_type": "code",
   "execution_count": null,
   "id": "4cad8505-9b2a-4a5f-8901-07ef463f8fef",
   "metadata": {},
   "outputs": [],
   "source": [
    "import scripts.app as app\n",
    "\n",
    "# Enable interactive plots\n",
    "%matplotlib widget"
   ]
  },
  {
   "cell_type": "markdown",
   "id": "f0ea1092-f129-4d13-9efb-461a8eb14807",
   "metadata": {},
   "source": [
    "## Running\n",
    "Upload the desired shapefiles in the `data` directory and run the cell below to load the area of interest."
   ]
  },
  {
   "cell_type": "code",
   "execution_count": null,
   "id": "8e6e7963-9cb9-4bfc-8574-1bf87021750b",
   "metadata": {},
   "outputs": [],
   "source": [
    "app.load_area_of_interest()"
   ]
  },
  {
   "cell_type": "markdown",
   "id": "58ac614e-1234-4b5f-bbad-66797d1b76f5",
   "metadata": {},
   "source": [
    "Create the output directory or check that it is currently empty."
   ]
  },
  {
   "cell_type": "code",
   "execution_count": null,
   "id": "fb1dfe18-9ac1-4bc5-987d-b11574891b3f",
   "metadata": {},
   "outputs": [],
   "source": [
    "app.check_output_dir()"
   ]
  },
  {
   "cell_type": "markdown",
   "id": "9dcf9b3f-754c-46bb-a94f-d4ea81b4b248",
   "metadata": {},
   "source": [
    "Choose a colormap with its name taken from https://matplotlib.org/stable/tutorials/colors/colormaps.html. The colormap must be specified before generating the rasters."
   ]
  },
  {
   "cell_type": "code",
   "execution_count": null,
   "id": "b19a1a1a-ac15-4411-8528-93d8ad31e86b",
   "metadata": {},
   "outputs": [],
   "source": [
    "app.color.set_colormap(\"Blues\")"
   ]
  },
  {
   "cell_type": "markdown",
   "id": "b6fa41d6-dba2-4d98-8458-ac16de1ec452",
   "metadata": {},
   "source": [
    "Choose the size of the rasters and the year of interest. Feel free to change these values."
   ]
  },
  {
   "cell_type": "code",
   "execution_count": null,
   "id": "2f64b7a2-8ba8-4c3d-9297-b3e4389841ec",
   "metadata": {},
   "outputs": [],
   "source": [
    "app.set_raster_size(  512  ) # integer or string \"WIDTHxHEIGHT\"\n",
    "app.generate_rasters(year=  2021  )"
   ]
  },
  {
   "cell_type": "markdown",
   "id": "1315de8a-5af3-49f9-81c2-d3e65e3d97e2",
   "metadata": {},
   "source": [
    "Run the cell below to show an interactive plot of the generated rasters. If the plot does not appear, You may need to install the `jupyter-matplotlib` extention, which can be done via the Extention Manager of Jupyter Lab."
   ]
  },
  {
   "cell_type": "code",
   "execution_count": null,
   "id": "79e0edc3-5e18-4c81-ac2e-f4090faab1cf",
   "metadata": {},
   "outputs": [],
   "source": [
    "app.show_interactive_plot()"
   ]
  }
 ],
 "metadata": {
  "kernelspec": {
   "display_name": "earth",
   "language": "python",
   "name": "earth"
  },
  "language_info": {
   "codemirror_mode": {
    "name": "ipython",
    "version": 3
   },
   "file_extension": ".py",
   "mimetype": "text/x-python",
   "name": "python",
   "nbconvert_exporter": "python",
   "pygments_lexer": "ipython3",
   "version": "3.8.10"
  }
 },
 "nbformat": 4,
 "nbformat_minor": 5
}
